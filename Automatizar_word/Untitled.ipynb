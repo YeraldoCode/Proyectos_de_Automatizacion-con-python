{
 "cells": [
  {
   "cell_type": "code",
   "execution_count": 4,
   "id": "6f1dc0dc-4f67-4f56-ba89-f586a8c7ab3d",
   "metadata": {},
   "outputs": [],
   "source": [
    "!pip install docxtpl -q"
   ]
  },
  {
   "cell_type": "code",
   "execution_count": 5,
   "id": "f438749e",
   "metadata": {},
   "outputs": [
    {
     "name": "stdout",
     "output_type": "stream",
     "text": [
      "Requirement already satisfied: pandas in /home/alexander/.pyenv/versions/3.10.9/lib/python3.10/site-packages (2.2.3)\n",
      "Requirement already satisfied: openpyxl in /home/alexander/.pyenv/versions/3.10.9/lib/python3.10/site-packages (3.1.5)\n",
      "Requirement already satisfied: numpy>=1.22.4 in /home/alexander/.pyenv/versions/3.10.9/lib/python3.10/site-packages (from pandas) (2.2.2)\n",
      "Requirement already satisfied: python-dateutil>=2.8.2 in /home/alexander/.pyenv/versions/3.10.9/lib/python3.10/site-packages (from pandas) (2.9.0.post0)\n",
      "Requirement already satisfied: pytz>=2020.1 in /home/alexander/.pyenv/versions/3.10.9/lib/python3.10/site-packages (from pandas) (2024.2)\n",
      "Requirement already satisfied: tzdata>=2022.7 in /home/alexander/.pyenv/versions/3.10.9/lib/python3.10/site-packages (from pandas) (2025.1)\n",
      "Requirement already satisfied: et-xmlfile in /home/alexander/.pyenv/versions/3.10.9/lib/python3.10/site-packages (from openpyxl) (2.0.0)\n",
      "Requirement already satisfied: six>=1.5 in /home/alexander/.pyenv/versions/3.10.9/lib/python3.10/site-packages (from python-dateutil>=2.8.2->pandas) (1.17.0)\n",
      "Note: you may need to restart the kernel to use updated packages.\n"
     ]
    }
   ],
   "source": [
    "pip install pandas openpyxl"
   ]
  },
  {
   "cell_type": "code",
   "execution_count": 1,
   "id": "5d92e6a5-f14f-4d6e-8cb4-4dc8156c896c",
   "metadata": {},
   "outputs": [],
   "source": [
    "import pandas as pd\n",
    "from docxtpl import DocxTemplate"
   ]
  },
  {
   "cell_type": "code",
   "execution_count": 2,
   "id": "7d6c99b6-d079-4c04-9742-31d0a3b05343",
   "metadata": {},
   "outputs": [],
   "source": [
    "doc = DocxTemplate(\"Auto_Portada.docx\")"
   ]
  },
  {
   "cell_type": "code",
   "execution_count": 3,
   "id": "8c392ac7",
   "metadata": {},
   "outputs": [],
   "source": [
    "df = pd.read_excel('Auto_Portada1.xlsx')"
   ]
  },
  {
   "cell_type": "code",
   "execution_count": 4,
   "id": "2f9364c9",
   "metadata": {},
   "outputs": [
    {
     "data": {
      "text/html": [
       "<div>\n",
       "<style scoped>\n",
       "    .dataframe tbody tr th:only-of-type {\n",
       "        vertical-align: middle;\n",
       "    }\n",
       "\n",
       "    .dataframe tbody tr th {\n",
       "        vertical-align: top;\n",
       "    }\n",
       "\n",
       "    .dataframe thead th {\n",
       "        text-align: right;\n",
       "    }\n",
       "</style>\n",
       "<table border=\"1\" class=\"dataframe\">\n",
       "  <thead>\n",
       "    <tr style=\"text-align: right;\">\n",
       "      <th></th>\n",
       "      <th>Maestro</th>\n",
       "      <th>asignatura</th>\n",
       "      <th>Grado</th>\n",
       "      <th>ClaveTarea</th>\n",
       "    </tr>\n",
       "  </thead>\n",
       "  <tbody>\n",
       "    <tr>\n",
       "      <th>0</th>\n",
       "      <td>Susana Esmeralda Maciel Salas</td>\n",
       "      <td>Estructura de Datos Aplicadas</td>\n",
       "      <td>4ºBIS</td>\n",
       "      <td>NaN</td>\n",
       "    </tr>\n",
       "    <tr>\n",
       "      <th>1</th>\n",
       "      <td>Susana Esmeralda Maciel Salas</td>\n",
       "      <td>Estandares y Metricas para el Desarrollo de So...</td>\n",
       "      <td>4ºBIS</td>\n",
       "      <td>NaN</td>\n",
       "    </tr>\n",
       "    <tr>\n",
       "      <th>2</th>\n",
       "      <td>Valentin Belisario Dominguez Vera</td>\n",
       "      <td>Diseño de Apps</td>\n",
       "      <td>4ºBIS</td>\n",
       "      <td>NaN</td>\n",
       "    </tr>\n",
       "    <tr>\n",
       "      <th>3</th>\n",
       "      <td>Gabriela Guadalupe Bautista</td>\n",
       "      <td>Formacion Sociocultural</td>\n",
       "      <td>4ºBIS</td>\n",
       "      <td>NaN</td>\n",
       "    </tr>\n",
       "    <tr>\n",
       "      <th>4</th>\n",
       "      <td>Felipe de jesus Rosales</td>\n",
       "      <td>Evaluacion para el desarrollo de software</td>\n",
       "      <td>4ºBIS</td>\n",
       "      <td>NaN</td>\n",
       "    </tr>\n",
       "    <tr>\n",
       "      <th>5</th>\n",
       "      <td>Maria Gdpe Montes de Oca Garza</td>\n",
       "      <td>Ingles IV</td>\n",
       "      <td>4ºBIS</td>\n",
       "      <td>NaN</td>\n",
       "    </tr>\n",
       "    <tr>\n",
       "      <th>6</th>\n",
       "      <td>Juan Luis Escamilla Arellano</td>\n",
       "      <td>Principios de Iot</td>\n",
       "      <td>4ºBIS</td>\n",
       "      <td>NaN</td>\n",
       "    </tr>\n",
       "  </tbody>\n",
       "</table>\n",
       "</div>"
      ],
      "text/plain": [
       "                             Maestro  \\\n",
       "0      Susana Esmeralda Maciel Salas   \n",
       "1      Susana Esmeralda Maciel Salas   \n",
       "2  Valentin Belisario Dominguez Vera   \n",
       "3        Gabriela Guadalupe Bautista   \n",
       "4           Felipe de jesus Rosales    \n",
       "5     Maria Gdpe Montes de Oca Garza   \n",
       "6      Juan Luis Escamilla Arellano    \n",
       "\n",
       "                                          asignatura   Grado  ClaveTarea  \n",
       "0                      Estructura de Datos Aplicadas  4ºBIS          NaN  \n",
       "1  Estandares y Metricas para el Desarrollo de So...   4ºBIS         NaN  \n",
       "2                                     Diseño de Apps   4ºBIS         NaN  \n",
       "3                            Formacion Sociocultural   4ºBIS         NaN  \n",
       "4          Evaluacion para el desarrollo de software   4ºBIS         NaN  \n",
       "5                                          Ingles IV   4ºBIS         NaN  \n",
       "6                                 Principios de Iot    4ºBIS         NaN  "
      ]
     },
     "execution_count": 4,
     "metadata": {},
     "output_type": "execute_result"
    }
   ],
   "source": [
    "df"
   ]
  },
  {
   "cell_type": "code",
   "execution_count": 10,
   "id": "efa13bc8",
   "metadata": {},
   "outputs": [
    {
     "name": "stdout",
     "output_type": "stream",
     "text": [
      "{'nombre_maestro': 'Susana Esmeralda Maciel Salas', 'nombre_materia': 'Estructura de Datos Aplicadas', 'grado': '4ºBIS ', 'ClaveTarea': nan}\n",
      "{'nombre_maestro': 'Susana Esmeralda Maciel Salas', 'nombre_materia': 'Estandares y Metricas para el Desarrollo de Sofware', 'grado': '4ºBIS', 'ClaveTarea': nan}\n",
      "{'nombre_maestro': 'Valentin Belisario Dominguez Vera', 'nombre_materia': 'Diseño de Apps', 'grado': '4ºBIS', 'ClaveTarea': nan}\n",
      "{'nombre_maestro': 'Gabriela Guadalupe Bautista', 'nombre_materia': 'Formacion Sociocultural', 'grado': '4ºBIS', 'ClaveTarea': nan}\n",
      "{'nombre_maestro': 'Felipe de jesus Rosales ', 'nombre_materia': 'Evaluacion para el desarrollo de software', 'grado': '4ºBIS', 'ClaveTarea': nan}\n",
      "{'nombre_maestro': 'Maria Gdpe Montes de Oca Garza', 'nombre_materia': 'Ingles IV', 'grado': '4ºBIS', 'ClaveTarea': nan}\n",
      "{'nombre_maestro': 'Juan Luis Escamilla Arellano ', 'nombre_materia': 'Principios de Iot ', 'grado': '4ºBIS', 'ClaveTarea': nan}\n"
     ]
    }
   ],
   "source": [
    "for indice, fila in df.iterrows():\n",
    "    contenido = {\n",
    "        'nombre_maestro': fila['Maestro'],\n",
    "        'nombre_materia': fila['asignatura'],\n",
    "        'grado': fila['Grado'],\n",
    "        'ClaveTarea': fila['ClaveTarea']\n",
    "    }\n",
    "    # Create a shorter file name using ClaveTarea and Grado\n",
    "    file_name = f\"Auto_Portada_{fila['asignatura']}_{fila['Grado']}.docx\"\n",
    "    doc.render(contenido)\n",
    "    doc.save(file_name)\n",
    "    print(contenido)"
   ]
  }
 ],
 "metadata": {
  "kernelspec": {
   "display_name": "Python 3",
   "language": "python",
   "name": "python3"
  },
  "language_info": {
   "codemirror_mode": {
    "name": "ipython",
    "version": 3
   },
   "file_extension": ".py",
   "mimetype": "text/x-python",
   "name": "python",
   "nbconvert_exporter": "python",
   "pygments_lexer": "ipython3",
   "version": "3.10.9"
  }
 },
 "nbformat": 4,
 "nbformat_minor": 5
}
